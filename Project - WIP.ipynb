{
 "cells": [
  {
   "cell_type": "code",
   "execution_count": 11,
   "id": "787d9e29",
   "metadata": {},
   "outputs": [],
   "source": [
    "# Import pandas as pd\n",
    "import pandas as pd\n",
    "import numpy as np\n",
    "import seaborn as sns\n",
    "import matplotlib.pyplot as plt"
   ]
  },
  {
   "cell_type": "code",
   "execution_count": 12,
   "id": "d9d1f999",
   "metadata": {},
   "outputs": [],
   "source": [
    "### Step 1              \n",
    "### Data import/ loading\n",
    "### 3 data sets are loaded below\n",
    "### Data 1 : CSV file / source: kaggle / Information : WFH vs WFO prediction data set \n",
    "########### source: kaggle {https:https://www.kaggle.com/datasets/anninasimon/predict-if-people-prefer-wfh-verses-wfo-data}\n",
    "########### Context from data owner: Since the pandemic began, most of us have been working from home. I wanted to see if people \n",
    "########### preferred working from home or they missed going back to office. So I conducted a survey and I decided to use \n",
    "########### this real data to see to what accuracy algorithm can predict the results.\n",
    "### Data 2 : CSV file  \n",
    "########### source: kaggle {https://www.kaggle.com/datasets/blurredmachine/are-your-employees-burning-out}\n",
    "########### Context from data owner: Understanding what will be the Burn Rate for the employee working in an organization based on\n",
    "########### the current pandemic situation where work from home is a boon and a bane. How are employees' Burn Rate affected\n",
    "########### based on various conditions provided?\n",
    "### Data 3 : data from web   \n",
    "########### source: kaggle { https://www.coingecko.com/en/api/documentation}\n",
    "########### Note: I decided to use this dataset to import using API as I was not able to find relevant data that fits in with\n",
    "########### analysis. \n",
    "\n"
   ]
  },
  {
   "cell_type": "code",
   "execution_count": 13,
   "id": "2afa2f4b",
   "metadata": {},
   "outputs": [
    {
     "data": {
      "text/html": [
       "<div>\n",
       "<style scoped>\n",
       "    .dataframe tbody tr th:only-of-type {\n",
       "        vertical-align: middle;\n",
       "    }\n",
       "\n",
       "    .dataframe tbody tr th {\n",
       "        vertical-align: top;\n",
       "    }\n",
       "\n",
       "    .dataframe thead th {\n",
       "        text-align: right;\n",
       "    }\n",
       "</style>\n",
       "<table border=\"1\" class=\"dataframe\">\n",
       "  <thead>\n",
       "    <tr style=\"text-align: right;\">\n",
       "      <th></th>\n",
       "      <th>ID</th>\n",
       "      <th>Name</th>\n",
       "      <th>Age</th>\n",
       "      <th>Occupation</th>\n",
       "      <th>Gender</th>\n",
       "      <th>Same_ofiice_home_location</th>\n",
       "      <th>kids</th>\n",
       "      <th>RM_save_money</th>\n",
       "      <th>RM_quality_time</th>\n",
       "      <th>RM_better_sleep</th>\n",
       "      <th>calmer_stressed</th>\n",
       "      <th>RM_professional_growth</th>\n",
       "      <th>RM_lazy</th>\n",
       "      <th>RM_productive</th>\n",
       "      <th>digital_connect_sufficient</th>\n",
       "      <th>RM_better_work_life_balance</th>\n",
       "      <th>RM_improved_skillset</th>\n",
       "      <th>RM_job_opportunities</th>\n",
       "      <th>Target</th>\n",
       "      <th>Test_Null</th>\n",
       "    </tr>\n",
       "  </thead>\n",
       "  <tbody>\n",
       "    <tr>\n",
       "      <th>0</th>\n",
       "      <td>1</td>\n",
       "      <td>Bhavana</td>\n",
       "      <td>45</td>\n",
       "      <td>Tutor</td>\n",
       "      <td>Female</td>\n",
       "      <td>Yes</td>\n",
       "      <td>Yes</td>\n",
       "      <td>Yes</td>\n",
       "      <td>Yes</td>\n",
       "      <td>Yes</td>\n",
       "      <td>CALMER</td>\n",
       "      <td>5</td>\n",
       "      <td>1</td>\n",
       "      <td>5</td>\n",
       "      <td>Yes</td>\n",
       "      <td>5</td>\n",
       "      <td>5</td>\n",
       "      <td>Yes</td>\n",
       "      <td>1</td>\n",
       "      <td>NaN</td>\n",
       "    </tr>\n",
       "    <tr>\n",
       "      <th>1</th>\n",
       "      <td>2</td>\n",
       "      <td>Harry</td>\n",
       "      <td>24</td>\n",
       "      <td>Tutor</td>\n",
       "      <td>Male</td>\n",
       "      <td>No</td>\n",
       "      <td>No</td>\n",
       "      <td>No</td>\n",
       "      <td>No</td>\n",
       "      <td>No</td>\n",
       "      <td>CALMER</td>\n",
       "      <td>2</td>\n",
       "      <td>2</td>\n",
       "      <td>2</td>\n",
       "      <td>No</td>\n",
       "      <td>3</td>\n",
       "      <td>3</td>\n",
       "      <td>No</td>\n",
       "      <td>1</td>\n",
       "      <td>NaN</td>\n",
       "    </tr>\n",
       "    <tr>\n",
       "      <th>2</th>\n",
       "      <td>3</td>\n",
       "      <td>Banditaa</td>\n",
       "      <td>53</td>\n",
       "      <td>HR</td>\n",
       "      <td>Female</td>\n",
       "      <td>Yes</td>\n",
       "      <td>Yes</td>\n",
       "      <td>Yes</td>\n",
       "      <td>Yes</td>\n",
       "      <td>Yes</td>\n",
       "      <td>CALMER</td>\n",
       "      <td>3</td>\n",
       "      <td>3</td>\n",
       "      <td>4</td>\n",
       "      <td>No</td>\n",
       "      <td>5</td>\n",
       "      <td>3</td>\n",
       "      <td>No</td>\n",
       "      <td>1</td>\n",
       "      <td>NaN</td>\n",
       "    </tr>\n",
       "    <tr>\n",
       "      <th>3</th>\n",
       "      <td>4</td>\n",
       "      <td>Neetha</td>\n",
       "      <td>26</td>\n",
       "      <td>Engineer</td>\n",
       "      <td>Female</td>\n",
       "      <td>Yes</td>\n",
       "      <td>No</td>\n",
       "      <td>Yes</td>\n",
       "      <td>Yes</td>\n",
       "      <td>No</td>\n",
       "      <td>STRESSED</td>\n",
       "      <td>3</td>\n",
       "      <td>4</td>\n",
       "      <td>4</td>\n",
       "      <td>No</td>\n",
       "      <td>4</td>\n",
       "      <td>5</td>\n",
       "      <td>Yes</td>\n",
       "      <td>0</td>\n",
       "      <td>NaN</td>\n",
       "    </tr>\n",
       "    <tr>\n",
       "      <th>4</th>\n",
       "      <td>5</td>\n",
       "      <td>Ram</td>\n",
       "      <td>26</td>\n",
       "      <td>Recruiter</td>\n",
       "      <td>Male</td>\n",
       "      <td>Yes</td>\n",
       "      <td>No</td>\n",
       "      <td>No</td>\n",
       "      <td>Yes</td>\n",
       "      <td>No</td>\n",
       "      <td>STRESSED</td>\n",
       "      <td>3</td>\n",
       "      <td>3</td>\n",
       "      <td>5</td>\n",
       "      <td>Yes</td>\n",
       "      <td>4</td>\n",
       "      <td>2</td>\n",
       "      <td>Yes</td>\n",
       "      <td>1</td>\n",
       "      <td>NaN</td>\n",
       "    </tr>\n",
       "  </tbody>\n",
       "</table>\n",
       "</div>"
      ],
      "text/plain": [
       "   ID      Name  Age Occupation  Gender Same_ofiice_home_location kids  \\\n",
       "0   1   Bhavana   45      Tutor  Female                       Yes  Yes   \n",
       "1   2     Harry   24      Tutor    Male                        No   No   \n",
       "2   3  Banditaa   53         HR  Female                       Yes  Yes   \n",
       "3   4    Neetha   26   Engineer  Female                       Yes   No   \n",
       "4   5       Ram   26  Recruiter    Male                       Yes   No   \n",
       "\n",
       "  RM_save_money RM_quality_time RM_better_sleep calmer_stressed  \\\n",
       "0           Yes             Yes             Yes          CALMER   \n",
       "1            No              No              No          CALMER   \n",
       "2           Yes             Yes             Yes          CALMER   \n",
       "3           Yes             Yes              No        STRESSED   \n",
       "4            No             Yes              No        STRESSED   \n",
       "\n",
       "   RM_professional_growth  RM_lazy  RM_productive digital_connect_sufficient  \\\n",
       "0                       5        1              5                        Yes   \n",
       "1                       2        2              2                         No   \n",
       "2                       3        3              4                         No   \n",
       "3                       3        4              4                         No   \n",
       "4                       3        3              5                        Yes   \n",
       "\n",
       "   RM_better_work_life_balance  RM_improved_skillset RM_job_opportunities  \\\n",
       "0                            5                     5                  Yes   \n",
       "1                            3                     3                   No   \n",
       "2                            5                     3                   No   \n",
       "3                            4                     5                  Yes   \n",
       "4                            4                     2                  Yes   \n",
       "\n",
       "   Target  Test_Null  \n",
       "0       1        NaN  \n",
       "1       1        NaN  \n",
       "2       1        NaN  \n",
       "3       0        NaN  \n",
       "4       1        NaN  "
      ]
     },
     "execution_count": 13,
     "metadata": {},
     "output_type": "execute_result"
    }
   ],
   "source": [
    "# Import the data from CSV:EU WFH info \n",
    "\n",
    "data1 = pd.read_csv(\"WFH_WFO_dataset.csv\")\n",
    "data1.head()\n",
    "\n"
   ]
  },
  {
   "cell_type": "code",
   "execution_count": 14,
   "id": "173fea5f",
   "metadata": {},
   "outputs": [
    {
     "data": {
      "text/html": [
       "<div>\n",
       "<style scoped>\n",
       "    .dataframe tbody tr th:only-of-type {\n",
       "        vertical-align: middle;\n",
       "    }\n",
       "\n",
       "    .dataframe tbody tr th {\n",
       "        vertical-align: top;\n",
       "    }\n",
       "\n",
       "    .dataframe thead th {\n",
       "        text-align: right;\n",
       "    }\n",
       "</style>\n",
       "<table border=\"1\" class=\"dataframe\">\n",
       "  <thead>\n",
       "    <tr style=\"text-align: right;\">\n",
       "      <th></th>\n",
       "      <th>Employee ID</th>\n",
       "      <th>Date of Joining</th>\n",
       "      <th>Gender</th>\n",
       "      <th>Company Type</th>\n",
       "      <th>WFH Setup Available</th>\n",
       "      <th>Designation</th>\n",
       "      <th>Resource Allocation</th>\n",
       "      <th>Mental Fatigue Score</th>\n",
       "      <th>Burn Rate</th>\n",
       "    </tr>\n",
       "  </thead>\n",
       "  <tbody>\n",
       "    <tr>\n",
       "      <th>0</th>\n",
       "      <td>fffe32003000360033003200</td>\n",
       "      <td>2008-09-30</td>\n",
       "      <td>Female</td>\n",
       "      <td>Service</td>\n",
       "      <td>No</td>\n",
       "      <td>2.0</td>\n",
       "      <td>3.0</td>\n",
       "      <td>3.8</td>\n",
       "      <td>0.16</td>\n",
       "    </tr>\n",
       "    <tr>\n",
       "      <th>1</th>\n",
       "      <td>fffe3700360033003500</td>\n",
       "      <td>2008-11-30</td>\n",
       "      <td>Male</td>\n",
       "      <td>Service</td>\n",
       "      <td>Yes</td>\n",
       "      <td>1.0</td>\n",
       "      <td>2.0</td>\n",
       "      <td>5.0</td>\n",
       "      <td>0.36</td>\n",
       "    </tr>\n",
       "    <tr>\n",
       "      <th>2</th>\n",
       "      <td>fffe31003300320037003900</td>\n",
       "      <td>2008-03-10</td>\n",
       "      <td>Female</td>\n",
       "      <td>Product</td>\n",
       "      <td>Yes</td>\n",
       "      <td>2.0</td>\n",
       "      <td>NaN</td>\n",
       "      <td>5.8</td>\n",
       "      <td>0.49</td>\n",
       "    </tr>\n",
       "    <tr>\n",
       "      <th>3</th>\n",
       "      <td>fffe32003400380032003900</td>\n",
       "      <td>2008-11-03</td>\n",
       "      <td>Male</td>\n",
       "      <td>Service</td>\n",
       "      <td>Yes</td>\n",
       "      <td>1.0</td>\n",
       "      <td>1.0</td>\n",
       "      <td>2.6</td>\n",
       "      <td>0.20</td>\n",
       "    </tr>\n",
       "    <tr>\n",
       "      <th>4</th>\n",
       "      <td>fffe31003900340031003600</td>\n",
       "      <td>2008-07-24</td>\n",
       "      <td>Female</td>\n",
       "      <td>Service</td>\n",
       "      <td>No</td>\n",
       "      <td>3.0</td>\n",
       "      <td>7.0</td>\n",
       "      <td>6.9</td>\n",
       "      <td>0.52</td>\n",
       "    </tr>\n",
       "  </tbody>\n",
       "</table>\n",
       "</div>"
      ],
      "text/plain": [
       "                Employee ID Date of Joining  Gender Company Type  \\\n",
       "0  fffe32003000360033003200      2008-09-30  Female      Service   \n",
       "1      fffe3700360033003500      2008-11-30    Male      Service   \n",
       "2  fffe31003300320037003900      2008-03-10  Female      Product   \n",
       "3  fffe32003400380032003900      2008-11-03    Male      Service   \n",
       "4  fffe31003900340031003600      2008-07-24  Female      Service   \n",
       "\n",
       "  WFH Setup Available  Designation  Resource Allocation  Mental Fatigue Score  \\\n",
       "0                  No          2.0                  3.0                   3.8   \n",
       "1                 Yes          1.0                  2.0                   5.0   \n",
       "2                 Yes          2.0                  NaN                   5.8   \n",
       "3                 Yes          1.0                  1.0                   2.6   \n",
       "4                  No          3.0                  7.0                   6.9   \n",
       "\n",
       "   Burn Rate  \n",
       "0       0.16  \n",
       "1       0.36  \n",
       "2       0.49  \n",
       "3       0.20  \n",
       "4       0.52  "
      ]
     },
     "execution_count": 14,
     "metadata": {},
     "output_type": "execute_result"
    }
   ],
   "source": [
    "data2 = pd.read_csv(\"Burn-Out stat.csv\")\n",
    "data2.head()"
   ]
  },
  {
   "cell_type": "code",
   "execution_count": 16,
   "id": "dbb1f0fc",
   "metadata": {},
   "outputs": [],
   "source": [
    "# importing web daily market share \n",
    "# Source: https://www.coingecko.com/en/api/documentation\n",
    "import requests\n",
    "API_Data = requests.get('https://api.coingecko.com/api/v3/companies/public_treasury/bitcoin')"
   ]
  },
  {
   "cell_type": "code",
   "execution_count": 17,
   "id": "e90b079f",
   "metadata": {},
   "outputs": [
    {
     "name": "stdout",
     "output_type": "stream",
     "text": [
      "200\n"
     ]
    }
   ],
   "source": [
    "# 200 is good \n",
    "print(API_Data.status_code)"
   ]
  },
  {
   "cell_type": "code",
   "execution_count": 18,
   "id": "f9759b1f",
   "metadata": {
    "scrolled": false
   },
   "outputs": [
    {
     "name": "stdout",
     "output_type": "stream",
     "text": [
      "{\"total_holdings\":225413.6658,\"total_value_usd\":4802234593.411153,\"market_cap_dominance\":1.18,\"companies\":[{\"name\":\"MicroStrategy Inc.\",\"symbol\":\"NASDAQ:MSTR\",\"country\":\"US\",\"total_holdings\":129218,\"total_entry_value_usd\":3970000000,\"total_current_value_usd\":2752872801,\"percentage_of_total_supply\":0.615},{\"name\":\"Tesla\",\"symbol\":\"NASDAQ: TSLA\",\"country\":\"US\",\"total_holdings\":48000,\"total_entry_value_usd\":1500000000,\"total_current_value_usd\":1022596654,\"percentage_of_total_supply\":0.229},{\"name\":\"Galaxy Digital Holdings\",\"symbol\":\"TSE:GLXY\",\"country\":\"CA\",\"total_holdings\":16402,\"total_entry_value_usd\":134000000,\"total_current_value_usd\":349429798,\"percentage_of_total_supply\":0.078},{\"name\":\"Square Inc.\",\"symbol\":\"NASDAQ:SQ\",\"country\":\"US\",\"total_holdings\":8027,\"total_entry_value_usd\":220000000,\"total_current_value_usd\":171007986,\"percentage_of_total_supply\":0.038},{\"name\":\"Marathon Patent Group\",\"symbol\":\"NASDAQ:MARA\",\"country\":\"US\",\"total_holdings\":4813,\"total_entry_value_usd\":150000000,\"total_current_value_usd\":102536618,\"percentage_of_total_supply\":0.023},{\"name\":\"Hut 8 Mining Corp\",\"symbol\":\"TSX:Hut-8\",\"country\":\"CA\",\"total_holdings\":4724,\"total_entry_value_usd\":0,\"total_current_value_usd\":100640554,\"percentage_of_total_supply\":0.022},{\"name\":\"Coinbase\",\"symbol\":\"NASDAQ: COIN\",\"country\":\"US\",\"total_holdings\":4483,\"total_entry_value_usd\":130100000,\"total_current_value_usd\":95506266,\"percentage_of_total_supply\":0.021},{\"name\":\"NEXON Co Ltd\",\"symbol\":\"TYO: 3659\",\"country\":\"Japan\",\"total_holdings\":1717,\"total_entry_value_usd\":100000000,\"total_current_value_usd\":36579134,\"percentage_of_total_supply\":0.008},{\"name\":\"Voyager Digital LTD\",\"symbol\":\"CSE:VYGR\",\"country\":\"CA\",\"total_holdings\":1239,\"total_entry_value_usd\":7927182,\"total_current_value_usd\":26395776,\"percentage_of_total_supply\":0.006},{\"name\":\"Riot Blockchain, Inc.\",\"symbol\":\"NASDAQ:RIOT\",\"country\":\"US\",\"total_holdings\":1175,\"total_entry_value_usd\":7200000,\"total_current_value_usd\":25032313,\"percentage_of_total_supply\":0.006},{\"name\":\"Aker ASA (Seetee AS)\",\"symbol\":\"OL:AKER\",\"country\":\"NO\",\"total_holdings\":1170,\"total_entry_value_usd\":58599450,\"total_current_value_usd\":24925793,\"percentage_of_total_supply\":0.006},{\"name\":\"Meitu\",\"symbol\":\"HKG:1357\",\"country\":\"HK\",\"total_holdings\":940,\"total_entry_value_usd\":49500000,\"total_current_value_usd\":20044385,\"percentage_of_total_supply\":0.004},{\"name\":\"Argo Blockchain PLC\",\"symbol\":\"LON:ARB\",\"country\":\"UK\",\"total_holdings\":936,\"total_entry_value_usd\":37839035,\"total_current_value_usd\":19940634,\"percentage_of_total_supply\":0.004},{\"name\":\"Coin Citadel Inc\",\"symbol\":\"OTCMKTS:CCTL\",\"country\":\"US\",\"total_holdings\":513,\"total_entry_value_usd\":184390,\"total_current_value_usd\":10929001,\"percentage_of_total_supply\":0.002},{\"name\":\"Cypherpunk Holdings Inc\",\"symbol\":\"CSE: HODL\",\"country\":\"Canada\",\"total_holdings\":350,\"total_entry_value_usd\":5637663,\"total_current_value_usd\":7456433,\"percentage_of_total_supply\":0.002},{\"name\":\"Advanced Bitcoin Technologies AG\",\"symbol\":\"ABT:GR\",\"country\":\"DE\",\"total_holdings\":254,\"total_entry_value_usd\":2117978,\"total_current_value_usd\":5411240,\"percentage_of_total_supply\":0.001},{\"name\":\"BIGG Digital Assets Inc.\",\"symbol\":\"CNSX:BIGG\",\"country\":\"CA\",\"total_holdings\":239,\"total_entry_value_usd\":2690387,\"total_current_value_usd\":5091679,\"percentage_of_total_supply\":0.001},{\"name\":\"Cypherpunk Holdings Inc.\",\"symbol\":\"CSE:HODL\",\"country\":\"CA\",\"total_holdings\":235,\"total_entry_value_usd\":1630000,\"total_current_value_usd\":5006462,\"percentage_of_total_supply\":0.001},{\"name\":\"DigitalX\",\"symbol\":\"ASX:DCC\",\"country\":\"AU\",\"total_holdings\":215,\"total_entry_value_usd\":874835,\"total_current_value_usd\":4580380,\"percentage_of_total_supply\":0.001},{\"name\":\"Hive Blockchain\",\"symbol\":\"CVE:HIVE\",\"country\":\"CA\",\"total_holdings\":211,\"total_entry_value_usd\":0,\"total_current_value_usd\":4495164,\"percentage_of_total_supply\":0.001},{\"name\":\"Fortress Blockchain\",\"symbol\":\"TSXV:FORT\",\"country\":\"CA\",\"total_holdings\":163,\"total_entry_value_usd\":0,\"total_current_value_usd\":3476828,\"percentage_of_total_supply\":0.001},{\"name\":\"The Brooker Group\",\"symbol\":\"BKK:BROOK\",\"country\":\"TH\",\"total_holdings\":122,\"total_entry_value_usd\":6600000,\"total_current_value_usd\":2605827,\"percentage_of_total_supply\":0.001},{\"name\":\"Mode Global Holdings\",\"symbol\":\"LON:MODE\",\"country\":\"UK\",\"total_holdings\":85,\"total_entry_value_usd\":975089,\"total_current_value_usd\":1810848,\"percentage_of_total_supply\":0.0},{\"name\":\"Neptune Digital Assets Corp.\",\"symbol\":\"TSXV: DASH\",\"country\":\"CA\",\"total_holdings\":75,\"total_entry_value_usd\":0,\"total_current_value_usd\":1597807,\"percentage_of_total_supply\":0.0},{\"name\":\"FRMO Corp.\",\"symbol\":\"OTCMKTS:FRMO\",\"country\":\"US\",\"total_holdings\":63,\"total_entry_value_usd\":0,\"total_current_value_usd\":1342158,\"percentage_of_total_supply\":0.0},{\"name\":\"Metromile\",\"symbol\":\"NASDAQ: MILE\",\"country\":\"US\",\"total_holdings\":25,\"total_entry_value_usd\":1000000,\"total_current_value_usd\":538567,\"percentage_of_total_supply\":0.0},{\"name\":\"Mogo Inc.\",\"symbol\":\"NASDAQ:MOGO\",\"country\":\"CA\",\"total_holdings\":18,\"total_entry_value_usd\":595494,\"total_current_value_usd\":383473,\"percentage_of_total_supply\":0.0}]}\n"
     ]
    }
   ],
   "source": [
    "print(API_Data.text)"
   ]
  },
  {
   "cell_type": "code",
   "execution_count": 19,
   "id": "f6541c67",
   "metadata": {},
   "outputs": [],
   "source": [
    "data3 = API_Data.json()"
   ]
  },
  {
   "cell_type": "code",
   "execution_count": 20,
   "id": "29f9d411",
   "metadata": {},
   "outputs": [
    {
     "name": "stdout",
     "output_type": "stream",
     "text": [
      "225413.6658\n"
     ]
    }
   ],
   "source": [
    "print(data3['total_holdings'])\n"
   ]
  },
  {
   "cell_type": "code",
   "execution_count": 21,
   "id": "f3d43c45",
   "metadata": {},
   "outputs": [],
   "source": [
    "#Print Names of companies \n",
    "\n",
    "names = []\n",
    "countries = []\n",
    "values = []\n",
    "for p in data3['companies']: names.append(p['name'])\n",
    "for c in data3['companies']: countries.append(c['country'])\n",
    "for d in data3['companies']: values.append(d['total_current_value_usd'])\n",
    "\n"
   ]
  },
  {
   "cell_type": "code",
   "execution_count": 22,
   "id": "23022681",
   "metadata": {},
   "outputs": [
    {
     "data": {
      "text/html": [
       "<div>\n",
       "<style scoped>\n",
       "    .dataframe tbody tr th:only-of-type {\n",
       "        vertical-align: middle;\n",
       "    }\n",
       "\n",
       "    .dataframe tbody tr th {\n",
       "        vertical-align: top;\n",
       "    }\n",
       "\n",
       "    .dataframe thead th {\n",
       "        text-align: right;\n",
       "    }\n",
       "</style>\n",
       "<table border=\"1\" class=\"dataframe\">\n",
       "  <thead>\n",
       "    <tr style=\"text-align: right;\">\n",
       "      <th></th>\n",
       "      <th>Company</th>\n",
       "      <th>Country</th>\n",
       "      <th>total_current_value_usd</th>\n",
       "    </tr>\n",
       "  </thead>\n",
       "  <tbody>\n",
       "    <tr>\n",
       "      <th>0</th>\n",
       "      <td>MicroStrategy Inc.</td>\n",
       "      <td>US</td>\n",
       "      <td>2752872801</td>\n",
       "    </tr>\n",
       "    <tr>\n",
       "      <th>1</th>\n",
       "      <td>Tesla</td>\n",
       "      <td>US</td>\n",
       "      <td>1022596654</td>\n",
       "    </tr>\n",
       "    <tr>\n",
       "      <th>2</th>\n",
       "      <td>Galaxy Digital Holdings</td>\n",
       "      <td>CA</td>\n",
       "      <td>349429798</td>\n",
       "    </tr>\n",
       "    <tr>\n",
       "      <th>3</th>\n",
       "      <td>Square Inc.</td>\n",
       "      <td>US</td>\n",
       "      <td>171007986</td>\n",
       "    </tr>\n",
       "    <tr>\n",
       "      <th>4</th>\n",
       "      <td>Marathon Patent Group</td>\n",
       "      <td>US</td>\n",
       "      <td>102536618</td>\n",
       "    </tr>\n",
       "    <tr>\n",
       "      <th>5</th>\n",
       "      <td>Hut 8 Mining Corp</td>\n",
       "      <td>CA</td>\n",
       "      <td>100640554</td>\n",
       "    </tr>\n",
       "    <tr>\n",
       "      <th>6</th>\n",
       "      <td>Coinbase</td>\n",
       "      <td>US</td>\n",
       "      <td>95506266</td>\n",
       "    </tr>\n",
       "    <tr>\n",
       "      <th>7</th>\n",
       "      <td>NEXON Co Ltd</td>\n",
       "      <td>Japan</td>\n",
       "      <td>36579134</td>\n",
       "    </tr>\n",
       "    <tr>\n",
       "      <th>8</th>\n",
       "      <td>Voyager Digital LTD</td>\n",
       "      <td>CA</td>\n",
       "      <td>26395776</td>\n",
       "    </tr>\n",
       "    <tr>\n",
       "      <th>9</th>\n",
       "      <td>Riot Blockchain, Inc.</td>\n",
       "      <td>US</td>\n",
       "      <td>25032313</td>\n",
       "    </tr>\n",
       "    <tr>\n",
       "      <th>10</th>\n",
       "      <td>Aker ASA (Seetee AS)</td>\n",
       "      <td>NO</td>\n",
       "      <td>24925793</td>\n",
       "    </tr>\n",
       "    <tr>\n",
       "      <th>11</th>\n",
       "      <td>Meitu</td>\n",
       "      <td>HK</td>\n",
       "      <td>20044385</td>\n",
       "    </tr>\n",
       "    <tr>\n",
       "      <th>12</th>\n",
       "      <td>Argo Blockchain PLC</td>\n",
       "      <td>UK</td>\n",
       "      <td>19940634</td>\n",
       "    </tr>\n",
       "    <tr>\n",
       "      <th>13</th>\n",
       "      <td>Coin Citadel Inc</td>\n",
       "      <td>US</td>\n",
       "      <td>10929001</td>\n",
       "    </tr>\n",
       "    <tr>\n",
       "      <th>14</th>\n",
       "      <td>Cypherpunk Holdings Inc</td>\n",
       "      <td>Canada</td>\n",
       "      <td>7456433</td>\n",
       "    </tr>\n",
       "    <tr>\n",
       "      <th>15</th>\n",
       "      <td>Advanced Bitcoin Technologies AG</td>\n",
       "      <td>DE</td>\n",
       "      <td>5411240</td>\n",
       "    </tr>\n",
       "    <tr>\n",
       "      <th>16</th>\n",
       "      <td>BIGG Digital Assets Inc.</td>\n",
       "      <td>CA</td>\n",
       "      <td>5091679</td>\n",
       "    </tr>\n",
       "    <tr>\n",
       "      <th>17</th>\n",
       "      <td>Cypherpunk Holdings Inc.</td>\n",
       "      <td>CA</td>\n",
       "      <td>5006462</td>\n",
       "    </tr>\n",
       "    <tr>\n",
       "      <th>18</th>\n",
       "      <td>DigitalX</td>\n",
       "      <td>AU</td>\n",
       "      <td>4580380</td>\n",
       "    </tr>\n",
       "    <tr>\n",
       "      <th>19</th>\n",
       "      <td>Hive Blockchain</td>\n",
       "      <td>CA</td>\n",
       "      <td>4495164</td>\n",
       "    </tr>\n",
       "    <tr>\n",
       "      <th>20</th>\n",
       "      <td>Fortress Blockchain</td>\n",
       "      <td>CA</td>\n",
       "      <td>3476828</td>\n",
       "    </tr>\n",
       "    <tr>\n",
       "      <th>21</th>\n",
       "      <td>The Brooker Group</td>\n",
       "      <td>TH</td>\n",
       "      <td>2605827</td>\n",
       "    </tr>\n",
       "    <tr>\n",
       "      <th>22</th>\n",
       "      <td>Mode Global Holdings</td>\n",
       "      <td>UK</td>\n",
       "      <td>1810848</td>\n",
       "    </tr>\n",
       "    <tr>\n",
       "      <th>23</th>\n",
       "      <td>Neptune Digital Assets Corp.</td>\n",
       "      <td>CA</td>\n",
       "      <td>1597807</td>\n",
       "    </tr>\n",
       "    <tr>\n",
       "      <th>24</th>\n",
       "      <td>FRMO Corp.</td>\n",
       "      <td>US</td>\n",
       "      <td>1342158</td>\n",
       "    </tr>\n",
       "    <tr>\n",
       "      <th>25</th>\n",
       "      <td>Metromile</td>\n",
       "      <td>US</td>\n",
       "      <td>538567</td>\n",
       "    </tr>\n",
       "    <tr>\n",
       "      <th>26</th>\n",
       "      <td>Mogo Inc.</td>\n",
       "      <td>CA</td>\n",
       "      <td>383473</td>\n",
       "    </tr>\n",
       "  </tbody>\n",
       "</table>\n",
       "</div>"
      ],
      "text/plain": [
       "                             Company Country  total_current_value_usd\n",
       "0                 MicroStrategy Inc.      US               2752872801\n",
       "1                              Tesla      US               1022596654\n",
       "2            Galaxy Digital Holdings      CA                349429798\n",
       "3                        Square Inc.      US                171007986\n",
       "4              Marathon Patent Group      US                102536618\n",
       "5                  Hut 8 Mining Corp      CA                100640554\n",
       "6                           Coinbase      US                 95506266\n",
       "7                       NEXON Co Ltd   Japan                 36579134\n",
       "8                Voyager Digital LTD      CA                 26395776\n",
       "9              Riot Blockchain, Inc.      US                 25032313\n",
       "10              Aker ASA (Seetee AS)      NO                 24925793\n",
       "11                             Meitu      HK                 20044385\n",
       "12               Argo Blockchain PLC      UK                 19940634\n",
       "13                  Coin Citadel Inc      US                 10929001\n",
       "14           Cypherpunk Holdings Inc  Canada                  7456433\n",
       "15  Advanced Bitcoin Technologies AG      DE                  5411240\n",
       "16          BIGG Digital Assets Inc.      CA                  5091679\n",
       "17          Cypherpunk Holdings Inc.      CA                  5006462\n",
       "18                          DigitalX      AU                  4580380\n",
       "19                   Hive Blockchain      CA                  4495164\n",
       "20               Fortress Blockchain      CA                  3476828\n",
       "21                 The Brooker Group      TH                  2605827\n",
       "22              Mode Global Holdings      UK                  1810848\n",
       "23      Neptune Digital Assets Corp.      CA                  1597807\n",
       "24                        FRMO Corp.      US                  1342158\n",
       "25                         Metromile      US                   538567\n",
       "26                         Mogo Inc.      CA                   383473"
      ]
     },
     "execution_count": 22,
     "metadata": {},
     "output_type": "execute_result"
    }
   ],
   "source": [
    "# extract a table \n",
    "zipped = list(zip(names, countries,values))\n",
    "summary = pd.DataFrame(zipped, columns=['Company', 'Country', 'total_current_value_usd'])\n",
    "summary\n"
   ]
  },
  {
   "cell_type": "code",
   "execution_count": 23,
   "id": "e4c2fd9d",
   "metadata": {
    "scrolled": true
   },
   "outputs": [
    {
     "data": {
      "text/plain": [
       "<AxesSubplot:xlabel='Country'>"
      ]
     },
     "execution_count": 23,
     "metadata": {},
     "output_type": "execute_result"
    },
    {
     "data": {
      "image/png": "[encoded data removed]",
      "text/plain": [
       "<Figure size 432x288 with 1 Axes>"
      ]
     },
     "metadata": {
      "needs_background": "light"
     },
     "output_type": "display_data"
    }
   ],
   "source": [
    "summary.plot(x ='Country', y='total_current_value_usd', kind = 'bar')"
   ]
  },
  {
   "cell_type": "code",
   "execution_count": 24,
   "id": "ec4a5946",
   "metadata": {
    "scrolled": false
   },
   "outputs": [
    {
     "data": {
      "text/plain": [
       "<AxesSubplot:xlabel='Company'>"
      ]
     },
     "execution_count": 24,
     "metadata": {},
     "output_type": "execute_result"
    },
    {
     "data": {
      "image/png": "[encoded data removed]",
      "text/plain": [
       "<Figure size 432x288 with 1 Axes>"
      ]
     },
     "metadata": {
      "needs_background": "light"
     },
     "output_type": "display_data"
    }
   ],
   "source": [
    "summary.plot(x ='Company', y='total_current_value_usd', kind = 'bar')"
   ]
  },
  {
   "cell_type": "code",
   "execution_count": 25,
   "id": "8e83f2b2",
   "metadata": {},
   "outputs": [],
   "source": [
    "############################################################################################################################\n",
    "############################################### Data Exploration ###########################################################\n",
    "############################################################################################################################"
   ]
  },
  {
   "cell_type": "code",
   "execution_count": 26,
   "id": "eed2a226",
   "metadata": {},
   "outputs": [
    {
     "data": {
      "text/plain": [
       "ID                               int64\n",
       "Name                            object\n",
       "Age                              int64\n",
       "Occupation                      object\n",
       "Gender                          object\n",
       "Same_ofiice_home_location       object\n",
       "kids                            object\n",
       "RM_save_money                   object\n",
       "RM_quality_time                 object\n",
       "RM_better_sleep                 object\n",
       "calmer_stressed                 object\n",
       "RM_professional_growth           int64\n",
       "RM_lazy                          int64\n",
       "RM_productive                    int64\n",
       "digital_connect_sufficient      object\n",
       "RM_better_work_life_balance      int64\n",
       "RM_improved_skillset             int64\n",
       "RM_job_opportunities            object\n",
       "Target                           int64\n",
       "Test_Null                      float64\n",
       "dtype: object"
      ]
     },
     "execution_count": 26,
     "metadata": {},
     "output_type": "execute_result"
    }
   ],
   "source": [
    "# retrieving data types of the column of DataFrame\n",
    "data1.dtypes"
   ]
  },
  {
   "cell_type": "code",
   "execution_count": 27,
   "id": "9b618a1b",
   "metadata": {},
   "outputs": [
    {
     "data": {
      "text/plain": [
       "Employee ID              object\n",
       "Date of Joining          object\n",
       "Gender                   object\n",
       "Company Type             object\n",
       "WFH Setup Available      object\n",
       "Designation             float64\n",
       "Resource Allocation     float64\n",
       "Mental Fatigue Score    float64\n",
       "Burn Rate               float64\n",
       "dtype: object"
      ]
     },
     "execution_count": 27,
     "metadata": {},
     "output_type": "execute_result"
    }
   ],
   "source": [
    "data2.dtypes"
   ]
  },
  {
   "cell_type": "code",
   "execution_count": 28,
   "id": "092c5a66",
   "metadata": {},
   "outputs": [
    {
     "ename": "NameError",
     "evalue": "name 'data' is not defined",
     "output_type": "error",
     "traceback": [
      "\u001b[1;31m---------------------------------------------------------------------------\u001b[0m",
      "\u001b[1;31mNameError\u001b[0m                                 Traceback (most recent call last)",
      "\u001b[1;32m<ipython-input-28-c3d483a1c074>\u001b[0m in \u001b[0;36m<module>\u001b[1;34m\u001b[0m\n\u001b[1;32m----> 1\u001b[1;33m \u001b[0mdata\u001b[0m\u001b[1;33m.\u001b[0m\u001b[0mcolumns\u001b[0m\u001b[1;33m\u001b[0m\u001b[1;33m\u001b[0m\u001b[0m\n\u001b[0m",
      "\u001b[1;31mNameError\u001b[0m: name 'data' is not defined"
     ]
    }
   ],
   "source": [
    "data.columns"
   ]
  },
  {
   "cell_type": "code",
   "execution_count": 29,
   "id": "243ef4f1",
   "metadata": {},
   "outputs": [
    {
     "data": {
      "text/plain": [
       "ID                               0\n",
       "Name                             0\n",
       "Age                              0\n",
       "Occupation                       0\n",
       "Gender                           0\n",
       "Same_ofiice_home_location        0\n",
       "kids                             0\n",
       "RM_save_money                    0\n",
       "RM_quality_time                  0\n",
       "RM_better_sleep                  0\n",
       "calmer_stressed                  0\n",
       "RM_professional_growth           0\n",
       "RM_lazy                          0\n",
       "RM_productive                    0\n",
       "digital_connect_sufficient       0\n",
       "RM_better_work_life_balance      0\n",
       "RM_improved_skillset             0\n",
       "RM_job_opportunities             0\n",
       "Target                           0\n",
       "Test_Null                      207\n",
       "dtype: int64"
      ]
     },
     "execution_count": 29,
     "metadata": {},
     "output_type": "execute_result"
    }
   ],
   "source": [
    "data1.isnull().sum()"
   ]
  },
  {
   "cell_type": "code",
   "execution_count": 30,
   "id": "da2e7d9a",
   "metadata": {},
   "outputs": [
    {
     "name": "stdout",
     "output_type": "stream",
     "text": [
      "(22750, 9)\n",
      "<class 'pandas.core.frame.DataFrame'>\n",
      "RangeIndex: 22750 entries, 0 to 22749\n",
      "Data columns (total 9 columns):\n",
      " #   Column                Non-Null Count  Dtype  \n",
      "---  ------                --------------  -----  \n",
      " 0   Employee ID           22750 non-null  object \n",
      " 1   Date of Joining       22750 non-null  object \n",
      " 2   Gender                22750 non-null  object \n",
      " 3   Company Type          22750 non-null  object \n",
      " 4   WFH Setup Available   22750 non-null  object \n",
      " 5   Designation           22750 non-null  float64\n",
      " 6   Resource Allocation   21369 non-null  float64\n",
      " 7   Mental Fatigue Score  20633 non-null  float64\n",
      " 8   Burn Rate             21626 non-null  float64\n",
      "dtypes: float64(4), object(5)\n",
      "memory usage: 1.6+ MB\n",
      "None\n"
     ]
    },
    {
     "data": {
      "text/plain": [
       "Employee ID                0\n",
       "Date of Joining            0\n",
       "Gender                     0\n",
       "Company Type               0\n",
       "WFH Setup Available        0\n",
       "Designation                0\n",
       "Resource Allocation     1381\n",
       "Mental Fatigue Score    2117\n",
       "Burn Rate               1124\n",
       "dtype: int64"
      ]
     },
     "execution_count": 30,
     "metadata": {},
     "output_type": "execute_result"
    }
   ],
   "source": [
    "print((data2.shape))\n",
    "print(data2.info())\n",
    "data2.isnull().sum()\n"
   ]
  },
  {
   "cell_type": "code",
   "execution_count": null,
   "id": "10f6bcb6",
   "metadata": {},
   "outputs": [],
   "source": []
  },
  {
   "cell_type": "code",
   "execution_count": 31,
   "id": "67d794e5",
   "metadata": {},
   "outputs": [],
   "source": [
    "#sns.barplot(x=\"Occupation\", y= \"RM_better_work_life_balance\", data= data1)"
   ]
  },
  {
   "cell_type": "code",
   "execution_count": 32,
   "id": "78bec3e6",
   "metadata": {},
   "outputs": [
    {
     "name": "stdout",
     "output_type": "stream",
     "text": [
      "(207, 20) (207, 19)\n"
     ]
    }
   ],
   "source": [
    "## WFH data did not any null columns, therefore, I have included a column in the csv to \n",
    "## demonstrate the drop null columns \n",
    "## from the results of the shape, there are now 19 col. rather than 20\n",
    "dropcolumns = data1.dropna(axis=1)\n",
    "print(data1.shape,dropcolumns.shape)"
   ]
  },
  {
   "cell_type": "code",
   "execution_count": 33,
   "id": "d5094613",
   "metadata": {},
   "outputs": [
    {
     "name": "stdout",
     "output_type": "stream",
     "text": [
      "(207, 20) (207, 20)\n"
     ]
    }
   ],
   "source": [
    "## no duplicates found \n",
    "drop_duplicates= data1.drop_duplicates(subset=['ID'])\n",
    "print(data1.shape,drop_duplicates.shape)"
   ]
  },
  {
   "cell_type": "code",
   "execution_count": 34,
   "id": "484107e3",
   "metadata": {},
   "outputs": [],
   "source": [
    "data11 = data1.fillna(0)\n"
   ]
  },
  {
   "cell_type": "code",
   "execution_count": 35,
   "id": "49c13b80",
   "metadata": {},
   "outputs": [
    {
     "name": "stdout",
     "output_type": "stream",
     "text": [
      "     Gender  Age\n",
      "0    Female   45\n",
      "1      Male   24\n",
      "2    Female   53\n",
      "3    Female   26\n",
      "4      Male   26\n",
      "..      ...  ...\n",
      "202  Female   32\n",
      "203    Male   52\n",
      "204    Male   22\n",
      "205  Female   25\n",
      "206  Female   23\n",
      "\n",
      "[207 rows x 2 columns]\n"
     ]
    },
    {
     "data": {
      "text/html": [
       "<div>\n",
       "<style scoped>\n",
       "    .dataframe tbody tr th:only-of-type {\n",
       "        vertical-align: middle;\n",
       "    }\n",
       "\n",
       "    .dataframe tbody tr th {\n",
       "        vertical-align: top;\n",
       "    }\n",
       "\n",
       "    .dataframe thead th {\n",
       "        text-align: right;\n",
       "    }\n",
       "</style>\n",
       "<table border=\"1\" class=\"dataframe\">\n",
       "  <thead>\n",
       "    <tr style=\"text-align: right;\">\n",
       "      <th></th>\n",
       "      <th>Age</th>\n",
       "    </tr>\n",
       "    <tr>\n",
       "      <th>Gender</th>\n",
       "      <th></th>\n",
       "    </tr>\n",
       "  </thead>\n",
       "  <tbody>\n",
       "    <tr>\n",
       "      <th>Female</th>\n",
       "      <td>30.691589</td>\n",
       "    </tr>\n",
       "    <tr>\n",
       "      <th>Male</th>\n",
       "      <td>28.570000</td>\n",
       "    </tr>\n",
       "  </tbody>\n",
       "</table>\n",
       "</div>"
      ],
      "text/plain": [
       "              Age\n",
       "Gender           \n",
       "Female  30.691589\n",
       "Male    28.570000"
      ]
     },
     "execution_count": 35,
     "metadata": {},
     "output_type": "execute_result"
    }
   ],
   "source": [
    "Gender_Age_Data =data1[['Gender', 'Age']] \n",
    "print(Gender_Age_Data)\n",
    "Gender_Age = Gender_Age_Data.groupby(['Gender']).mean()\n",
    "Gender_Age\n"
   ]
  },
  {
   "cell_type": "code",
   "execution_count": 36,
   "id": "09948085",
   "metadata": {},
   "outputs": [
    {
     "name": "stdout",
     "output_type": "stream",
     "text": [
      "       Gender  Burn Rate\n",
      "0      Female       0.16\n",
      "1        Male       0.36\n",
      "2      Female       0.49\n",
      "3        Male       0.20\n",
      "4      Female       0.52\n",
      "...       ...        ...\n",
      "22745  Female       0.41\n",
      "22746  Female       0.59\n",
      "22747    Male       0.72\n",
      "22748  Female       0.52\n",
      "22749    Male       0.61\n",
      "\n",
      "[22750 rows x 2 columns]\n"
     ]
    },
    {
     "data": {
      "text/html": [
       "<div>\n",
       "<style scoped>\n",
       "    .dataframe tbody tr th:only-of-type {\n",
       "        vertical-align: middle;\n",
       "    }\n",
       "\n",
       "    .dataframe tbody tr th {\n",
       "        vertical-align: top;\n",
       "    }\n",
       "\n",
       "    .dataframe thead th {\n",
       "        text-align: right;\n",
       "    }\n",
       "</style>\n",
       "<table border=\"1\" class=\"dataframe\">\n",
       "  <thead>\n",
       "    <tr style=\"text-align: right;\">\n",
       "      <th></th>\n",
       "      <th>Burn Rate</th>\n",
       "    </tr>\n",
       "    <tr>\n",
       "      <th>Gender</th>\n",
       "      <th></th>\n",
       "    </tr>\n",
       "  </thead>\n",
       "  <tbody>\n",
       "    <tr>\n",
       "      <th>Female</th>\n",
       "      <td>0.422788</td>\n",
       "    </tr>\n",
       "    <tr>\n",
       "      <th>Male</th>\n",
       "      <td>0.484271</td>\n",
       "    </tr>\n",
       "  </tbody>\n",
       "</table>\n",
       "</div>"
      ],
      "text/plain": [
       "        Burn Rate\n",
       "Gender           \n",
       "Female   0.422788\n",
       "Male     0.484271"
      ]
     },
     "execution_count": 36,
     "metadata": {},
     "output_type": "execute_result"
    }
   ],
   "source": [
    "Gender_Age_Data2 =data2[['Gender', 'Burn Rate']] \n",
    "print(Gender_Age_Data2)\n",
    "Gender_Age2 = Gender_Age_Data2.groupby(['Gender']).mean()\n",
    "Gender_Age2"
   ]
  },
  {
   "cell_type": "code",
   "execution_count": 37,
   "id": "91b9ee87",
   "metadata": {},
   "outputs": [],
   "source": [
    "############################################################################################################################\n",
    "############################################ Merging Data ##################################################################\n",
    "############################################################################################################################"
   ]
  },
  {
   "cell_type": "code",
   "execution_count": 53,
   "id": "02c29659",
   "metadata": {},
   "outputs": [
    {
     "data": {
      "text/html": [
       "<div>\n",
       "<style scoped>\n",
       "    .dataframe tbody tr th:only-of-type {\n",
       "        vertical-align: middle;\n",
       "    }\n",
       "\n",
       "    .dataframe tbody tr th {\n",
       "        vertical-align: top;\n",
       "    }\n",
       "\n",
       "    .dataframe thead th {\n",
       "        text-align: right;\n",
       "    }\n",
       "</style>\n",
       "<table border=\"1\" class=\"dataframe\">\n",
       "  <thead>\n",
       "    <tr style=\"text-align: right;\">\n",
       "      <th></th>\n",
       "      <th>Age</th>\n",
       "      <th>Burn Rate</th>\n",
       "    </tr>\n",
       "    <tr>\n",
       "      <th>Gender</th>\n",
       "      <th></th>\n",
       "      <th></th>\n",
       "    </tr>\n",
       "  </thead>\n",
       "  <tbody>\n",
       "    <tr>\n",
       "      <th>Female</th>\n",
       "      <td>30.691589</td>\n",
       "      <td>0.422788</td>\n",
       "    </tr>\n",
       "    <tr>\n",
       "      <th>Male</th>\n",
       "      <td>28.570000</td>\n",
       "      <td>0.484271</td>\n",
       "    </tr>\n",
       "  </tbody>\n",
       "</table>\n",
       "</div>"
      ],
      "text/plain": [
       "              Age  Burn Rate\n",
       "Gender                      \n",
       "Female  30.691589   0.422788\n",
       "Male    28.570000   0.484271"
      ]
     },
     "execution_count": 53,
     "metadata": {},
     "output_type": "execute_result"
    }
   ],
   "source": [
    "Merged_Data= Gender_Age.merge(Gender_Age2, left_on=['Gender'], right_on=['Gender'])\n",
    "Merged_Data\n"
   ]
  },
  {
   "cell_type": "code",
   "execution_count": 55,
   "id": "323e5d00",
   "metadata": {},
   "outputs": [
    {
     "data": {
      "text/plain": [
       "<AxesSubplot:xlabel='Gender', ylabel='Burn Rate'>"
      ]
     },
     "execution_count": 55,
     "metadata": {},
     "output_type": "execute_result"
    },
    {
     "data": {
      "image/png": "[encoded data removed]",
      "text/plain": [
       "<Figure size 432x288 with 1 Axes>"
      ]
     },
     "metadata": {
      "needs_background": "light"
     },
     "output_type": "display_data"
    }
   ],
   "source": [
    "import seaborn as sns\n",
    "\n",
    "sns.scatterplot(x='Gender',y='Burn Rate', data=Merged_Data, size='Age')"
   ]
  },
  {
   "cell_type": "code",
   "execution_count": 61,
   "id": "ba0cf507",
   "metadata": {},
   "outputs": [
    {
     "data": {
      "text/plain": [
       "<AxesSubplot:xlabel='Burn Rate', ylabel='WFH Setup Available'>"
      ]
     },
     "execution_count": 61,
     "metadata": {},
     "output_type": "execute_result"
    },
    {
     "data": {
      "image/png": "[encoded data removed]",
      "text/plain": [
       "<Figure size 432x288 with 1 Axes>"
      ]
     },
     "metadata": {
      "needs_background": "light"
     },
     "output_type": "display_data"
    }
   ],
   "source": [
    "#plot showing the burn rate by gender and whether WFH setup is available. \n",
    "sns.barplot(data=data2, y='WFH Setup Available', x='Burn Rate', hue='Gender')"
   ]
  },
  {
   "cell_type": "code",
   "execution_count": 68,
   "id": "247e189a",
   "metadata": {},
   "outputs": [
    {
     "data": {
      "text/plain": [
       "<AxesSubplot:xlabel='RM_better_work_life_balance', ylabel='Occupation'>"
      ]
     },
     "execution_count": 68,
     "metadata": {},
     "output_type": "execute_result"
    },
    {
     "data": {
      "image/png": "[encoded data removed]",
      "text/plain": [
       "<Figure size 432x288 with 1 Axes>"
      ]
     },
     "metadata": {
      "needs_background": "light"
     },
     "output_type": "display_data"
    }
   ],
   "source": [
    "#plot showing the burn rate by gender and whether WFH setup is available. \n",
    "sns.barplot(data=data1, y='Occupation', x='RM_better_work_life_balance', hue='Gender')\n",
    "\n"
   ]
  },
  {
   "cell_type": "code",
   "execution_count": 69,
   "id": "89656fcf",
   "metadata": {},
   "outputs": [
    {
     "data": {
      "text/plain": [
       "<AxesSubplot:xlabel='RM_better_work_life_balance', ylabel='Occupation'>"
      ]
     },
     "execution_count": 69,
     "metadata": {},
     "output_type": "execute_result"
    },
    {
     "data": {
      "image/png": "[encoded data removed]",
      "text/plain": [
       "<Figure size 432x288 with 1 Axes>"
      ]
     },
     "metadata": {
      "needs_background": "light"
     },
     "output_type": "display_data"
    }
   ],
   "source": [
    "sns.barplot(data=data1, y='Occupation', x='RM_better_work_life_balance', hue='kids')"
   ]
  },
  {
   "cell_type": "code",
   "execution_count": 70,
   "id": "1eca0f8e",
   "metadata": {},
   "outputs": [
    {
     "data": {
      "text/plain": [
       "<AxesSubplot:xlabel='RM_better_work_life_balance', ylabel='Gender'>"
      ]
     },
     "execution_count": 70,
     "metadata": {},
     "output_type": "execute_result"
    },
    {
     "data": {
      "image/png": "[encoded data removed]",
      "text/plain": [
       "<Figure size 432x288 with 1 Axes>"
      ]
     },
     "metadata": {
      "needs_background": "light"
     },
     "output_type": "display_data"
    }
   ],
   "source": [
    "sns.barplot(data=data1, y='Gender', x='RM_better_work_life_balance', hue='kids')"
   ]
  },
  {
   "cell_type": "code",
   "execution_count": null,
   "id": "c1e95472",
   "metadata": {},
   "outputs": [],
   "source": []
  }
 ],
 "metadata": {
  "kernelspec": {
   "display_name": "Python 3",
   "language": "python",
   "name": "python3"
  },
  "language_info": {
   "codemirror_mode": {
    "name": "ipython",
    "version": 3
   },
   "file_extension": ".py",
   "mimetype": "text/x-python",
   "name": "python",
   "nbconvert_exporter": "python",
   "pygments_lexer": "ipython3",
   "version": "3.8.8"
  }
 },
 "nbformat": 4,
 "nbformat_minor": 5
}
